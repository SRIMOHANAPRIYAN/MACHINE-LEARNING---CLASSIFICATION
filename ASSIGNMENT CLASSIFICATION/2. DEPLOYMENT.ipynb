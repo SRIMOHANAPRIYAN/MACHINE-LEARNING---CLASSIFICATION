{
 "cells": [
  {
   "cell_type": "code",
   "execution_count": 1,
   "id": "e9e4a2ac-f48b-4c2c-8438-5bd4051dd4d5",
   "metadata": {},
   "outputs": [],
   "source": [
    "import pickle\n",
    "filename=\"FINAL_MODEL.sav\""
   ]
  },
  {
   "cell_type": "code",
   "execution_count": 2,
   "id": "8359a998-3f19-4814-9e95-e84c5d530010",
   "metadata": {},
   "outputs": [],
   "source": [
    "age_input=60.14\n",
    "bp_input=27.25\n",
    "al_input=85.258\n",
    "su_input=89.256\n",
    "bgr_input =45.258\n",
    "bu_input =23.478\n",
    "sc_input = 1.05\n",
    "sod_input = 140.0\n",
    "pot_input = 4.0\n",
    "hrmo_input = 14.5\n",
    "pcv_input = 45.0\n",
    "wc_input = 8000.0\n",
    "rc_input = 5.0\n",
    "sg_b_input = 25.486\n",
    "sg_c_input = 78.256\n",
    "sg_d_input = 5.266\n",
    "sg_e_input = 45.265\n",
    "rbc_normal_input = 1.0\n",
    "pc_normal_input = 1.0\n",
    "pcc_present_input = 12.21\n",
    "ba_present_input = 32.25\n",
    "htn_yes_input = 99.96\n",
    "dm_yes_input = 0\n",
    "cad_yes_input = 0\n",
    "appet_yes_input = 1\n",
    "pe_yes_input = 1\n",
    "ane_yes_input = 0"
   ]
  },
  {
   "cell_type": "code",
   "execution_count": 3,
   "id": "956296bd-b80d-4ec1-aa16-d378566b6bce",
   "metadata": {},
   "outputs": [
    {
     "data": {
      "text/plain": [
       "array([1])"
      ]
     },
     "execution_count": 3,
     "metadata": {},
     "output_type": "execute_result"
    }
   ],
   "source": [
    "load_model= pickle.load(open(\"FINAL_MODEL.sav\",'rb'))\n",
    "result=load_model.predict([[age_input, bp_input, al_input, su_input, bgr_input, bu_input, sc_input, sod_input, pot_input, hrmo_input, pcv_input, wc_input, rc_input, sg_b_input, sg_c_input, sg_d_input, sg_e_input, rbc_normal_input, pc_normal_input, pcc_present_input, ba_present_input, htn_yes_input, dm_yes_input, cad_yes_input, appet_yes_input, pe_yes_input, ane_yes_input]])\n",
    "result"
   ]
  }
 ],
 "metadata": {
  "kernelspec": {
   "display_name": "Python [conda env:base] *",
   "language": "python",
   "name": "conda-base-py"
  },
  "language_info": {
   "codemirror_mode": {
    "name": "ipython",
    "version": 3
   },
   "file_extension": ".py",
   "mimetype": "text/x-python",
   "name": "python",
   "nbconvert_exporter": "python",
   "pygments_lexer": "ipython3",
   "version": "3.13.5"
  }
 },
 "nbformat": 4,
 "nbformat_minor": 5
}
